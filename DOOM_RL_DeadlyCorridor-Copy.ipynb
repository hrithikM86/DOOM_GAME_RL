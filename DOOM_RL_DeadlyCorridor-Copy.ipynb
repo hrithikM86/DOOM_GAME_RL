{
 "cells": [
  {
   "cell_type": "markdown",
   "id": "5f0b21f8",
   "metadata": {},
   "source": [
    "## Getting up Vizdoom running "
   ]
  },
  {
   "cell_type": "code",
   "execution_count": 6,
   "id": "c68e81a9",
   "metadata": {},
   "outputs": [],
   "source": [
    "#VIZDOOM allows developing AI bots that play DOOM using visual information"
   ]
  },
  {
   "cell_type": "raw",
   "id": "4b819bb4",
   "metadata": {},
   "source": [
    "https://vizdoom.cs.put.edu.pl/"
   ]
  },
  {
   "cell_type": "raw",
   "id": "eedbb029",
   "metadata": {},
   "source": [
    "!pip install vizdoom"
   ]
  },
  {
   "cell_type": "raw",
   "id": "ce3d5415",
   "metadata": {},
   "source": [
    "install this github repo into same folder you are working in : https://github.com/Farama-Foundation/ViZDoom"
   ]
  },
  {
   "cell_type": "code",
   "execution_count": 2,
   "id": "02c397ec",
   "metadata": {},
   "outputs": [],
   "source": [
    "# Import vizdoom for game env\n",
    "from vizdoom import *                          #import all vizdoom dependency\n",
    "# Import random for action sampling\n",
    "import random\n",
    "# Import time for sleeping\n",
    "import time \n",
    "# Import numpy for identity matrix\n",
    "import numpy as np"
   ]
  },
  {
   "cell_type": "markdown",
   "id": "262f8787",
   "metadata": {},
   "source": [
    "## Setting up the game"
   ]
  },
  {
   "cell_type": "code",
   "execution_count": 2,
   "id": "b89f5396",
   "metadata": {},
   "outputs": [],
   "source": [
    "game =DoomGame()       #creating an instance from vizdoom class\n",
    "game.load_config('github/VizDoom/scenarios/deadly_corridor_S1.cfg')      #this config allows to load owr reward,buttons etc\n",
    "game.init()            #stariting it up"
   ]
  },
  {
   "cell_type": "code",
   "execution_count": 3,
   "id": "fbe65d6e",
   "metadata": {},
   "outputs": [],
   "source": [
    "#set of actions we can take in the environment\n",
    "actions=np.identity(7,dtype=np.uint8)"
   ]
  },
  {
   "cell_type": "code",
   "execution_count": 4,
   "id": "5b566775",
   "metadata": {},
   "outputs": [
    {
     "data": {
      "text/plain": [
       "array([0, 0, 0, 0, 0, 0, 1], dtype=uint8)"
      ]
     },
     "execution_count": 4,
     "metadata": {},
     "output_type": "execute_result"
    }
   ],
   "source": [
    "random.choice(actions)\n"
   ]
  },
  {
   "cell_type": "code",
   "execution_count": 26,
   "id": "f3d702e3",
   "metadata": {},
   "outputs": [
    {
     "name": "stdout",
     "output_type": "stream",
     "text": [
      "reward: 0.0\n",
      "reward: 0.0\n",
      "reward: -7.1104888916015625\n",
      "reward: -8.734405517578125\n",
      "reward: -0.1011199951171875\n",
      "reward: -0.0518341064453125\n",
      "reward: 0.0\n",
      "reward: 0.0\n",
      "reward: -7.62939453125e-05\n",
      "reward: 0.0\n",
      "reward: 0.0\n",
      "reward: -0.0013885498046875\n",
      "reward: 7.110260009765625\n",
      "reward: 8.529800415039062\n",
      "reward: 5.7534027099609375\n",
      "reward: -3.1796112060546875\n",
      "reward: -5.0216522216796875\n",
      "reward: -10.01129150390625\n",
      "reward: -3.1761627197265625\n",
      "reward: 7.06011962890625\n",
      "reward: 8.469589233398438\n",
      "reward: 12.772933959960938\n",
      "reward: 11.492279052734375\n",
      "reward: -0.3734588623046875\n",
      "reward: -4.4556884765625\n",
      "reward: -2.6354522705078125\n",
      "reward: 5.6484375\n",
      "reward: 3.655914306640625\n",
      "reward: -4.652435302734375\n",
      "reward: 0.239776611328125\n",
      "reward: 3.8973236083984375\n",
      "reward: 2.6287078857421875\n",
      "reward: -4.0460662841796875\n",
      "reward: 3.68084716796875\n",
      "reward: 6.2183990478515625\n",
      "reward: -2.865264892578125\n",
      "reward: -5.6400299072265625\n",
      "reward: -3.8043975830078125\n",
      "reward: -2.78558349609375\n",
      "reward: -2.4213104248046875\n",
      "reward: -1.6332855224609375\n",
      "reward: 5.6087646484375\n",
      "reward: 9.295989990234375\n",
      "reward: 8.158416748046875\n",
      "reward: 11.2972412109375\n",
      "reward: 10.606109619140625\n",
      "reward: 0.4431610107421875\n",
      "reward: -3.22528076171875\n",
      "reward: 0.08551025390625\n",
      "reward: -2.811004638671875\n",
      "reward: 3.946014404296875\n",
      "reward: -0.6384124755859375\n",
      "reward: -11.029083251953125\n",
      "reward: -11.088577270507812\n",
      "reward: -3.8172607421875\n",
      "reward: 5.4201507568359375\n",
      "reward: 0.3034515380859375\n",
      "reward: 3.5567474365234375\n",
      "reward: 13.165634155273438\n",
      "reward: 5.527923583984375\n",
      "reward: 0.0061492919921875\n",
      "reward: -0.836029052734375\n",
      "reward: -1.8390350341796875\n",
      "reward: -2.8194122314453125\n",
      "reward: -10.833251953125\n",
      "reward: -11.0145263671875\n",
      "reward: -7.4296112060546875\n",
      "reward: -12.071014404296875\n",
      "reward: -11.849441528320312\n",
      "reward: -8.7652587890625\n",
      "reward: -1.3391265869140625\n",
      "reward: -0.9033966064453125\n",
      "reward: -0.6094818115234375\n",
      "reward: -0.4112548828125\n",
      "reward: -0.277496337890625\n",
      "reward: 0.0\n",
      "reward: 1.4552459716796875\n",
      "reward: 1.74566650390625\n",
      "reward: -0.2780609130859375\n",
      "reward: -0.9519805908203125\n",
      "reward: -6.15228271484375\n",
      "reward: 0.0\n",
      "reward: 0.0\n",
      "reward: -0.08660888671875\n",
      "reward: 0.6275482177734375\n",
      "reward: 0.7527313232421875\n",
      "reward: 0.5076141357421875\n",
      "reward: -0.0950469970703125\n",
      "reward: -0.7476654052734375\n",
      "reward: -0.3001861572265625\n",
      "reward: -0.7226715087890625\n",
      "reward: 0.0\n",
      "reward: 0.2042236328125\n",
      "reward: 0.445068359375\n",
      "reward: 0.2553558349609375\n",
      "reward: 0.206573486328125\n",
      "reward: -0.7808837890625\n",
      "reward: -0.2789154052734375\n",
      "reward: 0.0\n",
      "reward: -0.0514678955078125\n",
      "reward: 0.0\n",
      "reward: 0.0\n",
      "reward: 0.0\n",
      "reward: -0.02020263671875\n",
      "reward: 0.0\n",
      "reward: 0.0\n",
      "reward: 3.40234375\n",
      "reward: 10.24664306640625\n",
      "reward: 13.551300048828125\n",
      "reward: 7.161865234375\n",
      "reward: 9.968276977539062\n",
      "reward: 9.961166381835938\n",
      "reward: 6.7188262939453125\n",
      "reward: 1.8797454833984375\n",
      "reward: 2.5270538330078125\n",
      "reward: -3.4561920166015625\n",
      "reward: 0.7804412841796875\n",
      "reward: 1.315582275390625\n",
      "reward: 5.972991943359375\n",
      "reward: 0.9459228515625\n",
      "reward: 0.637908935546875\n",
      "reward: 3.83251953125\n",
      "reward: 7.7741241455078125\n",
      "reward: 3.6278839111328125\n",
      "reward: 0.6601409912109375\n",
      "reward: 0.4451904296875\n",
      "reward: 0.3001556396484375\n",
      "reward: 7.045013427734375\n",
      "reward: 8.987838745117188\n",
      "reward: 2.1649169921875\n",
      "reward: 0.48248291015625\n",
      "reward: 2.977294921875\n",
      "reward: -3.152496337890625\n",
      "reward: -1.655670166015625\n",
      "reward: -2.0405120849609375\n",
      "reward: -0.1171722412109375\n",
      "reward: 3.925079345703125\n",
      "reward: -1.012847900390625\n",
      "reward: -2.076019287109375\n",
      "reward: -1.4004058837890625\n",
      "reward: -4.5069580078125\n",
      "reward: -8.518875122070312\n",
      "reward: -8.604995727539062\n",
      "reward: -5.8043060302734375\n",
      "reward: -3.9151611328125\n",
      "reward: 3.04339599609375\n",
      "reward: 0.9021453857421875\n",
      "reward: -1.51800537109375\n",
      "reward: -1.02398681640625\n",
      "reward: -0.6907958984375\n",
      "reward: -0.4660797119140625\n",
      "reward: -0.3144989013671875\n",
      "reward: 1.8502044677734375\n",
      "reward: 4.3933868408203125\n",
      "reward: 4.019256591796875\n",
      "reward: 8.648757934570312\n",
      "reward: 9.393905639648438\n",
      "reward: 4.273773193359375\n",
      "reward: -0.262908935546875\n",
      "reward: 3.8140106201171875\n",
      "reward: 11.13775634765625\n",
      "reward: 8.308868408203125\n",
      "reward: 4.057586669921875\n",
      "reward: -5.1944732666015625\n",
      "reward: -7.175933837890625\n",
      "reward: -11.940414428710938\n",
      "reward: -11.36395263671875\n",
      "reward: -7.445465087890625\n",
      "reward: -5.022216796875\n",
      "reward: -7.9061431884765625\n",
      "reward: -9.726715087890625\n",
      "reward: -2.4089813232421875\n",
      "reward: -4.7369232177734375\n",
      "reward: -7.949554443359375\n",
      "reward: -5.602325439453125\n",
      "reward: -4.9399871826171875\n",
      "reward: -3.3322296142578125\n",
      "reward: -8.412933349609375\n",
      "reward: -8.912353515625\n",
      "reward: -6.0115814208984375\n",
      "reward: -1.40301513671875\n",
      "reward: 3.063507080078125\n",
      "reward: 1.665802001953125\n",
      "reward: 1.12347412109375\n",
      "reward: -4.7685089111328125\n",
      "reward: -6.1063385009765625\n",
      "reward: -6.026641845703125\n",
      "reward: 0.0\n",
      "reward: -0.05902099609375\n",
      "reward: 2.6519317626953125\n",
      "reward: 3.18133544921875\n",
      "reward: 2.1457366943359375\n",
      "reward: 1.44720458984375\n",
      "reward: -5.866790771484375\n",
      "reward: -3.5069122314453125\n",
      "reward: -0.0525054931640625\n",
      "reward: 0.0\n",
      "reward: 0.0\n",
      "reward: 6.1650543212890625\n",
      "reward: 13.437881469726562\n",
      "reward: 1.611907958984375\n",
      "reward: -5.552886962890625\n",
      "reward: -2.1299896240234375\n",
      "reward: -3.0525970458984375\n",
      "reward: 2.027252197265625\n",
      "reward: -2.012603759765625\n",
      "reward: -1.192779541015625\n",
      "reward: 0.9820709228515625\n",
      "reward: 0.66229248046875\n",
      "reward: -4.120208740234375\n",
      "reward: -5.3650054931640625\n",
      "reward: -1.439971923828125\n",
      "reward: -0.00726318359375\n",
      "reward: -0.013153076171875\n",
      "reward: 6.5531158447265625\n",
      "reward: 7.8613739013671875\n",
      "reward: -1.2507171630859375\n",
      "reward: -8.530471801757812\n",
      "reward: -3.7688140869140625\n",
      "reward: -0.851104736328125\n",
      "reward: 0.0\n",
      "reward: -0.01080322265625\n",
      "reward: 3.40234375\n",
      "reward: 4.0815277099609375\n",
      "reward: 2.752960205078125\n",
      "reward: 1.8568115234375\n",
      "reward: 1.252349853515625\n",
      "reward: -4.4227752685546875\n",
      "reward: -5.749420166015625\n",
      "reward: -3.167724609375\n",
      "reward: 4.6422271728515625\n",
      "reward: 5.569000244140625\n",
      "reward: 9.434524536132812\n",
      "reward: 13.18341064453125\n",
      "reward: 14.373947143554688\n",
      "reward: 12.677200317382812\n",
      "reward: 8.550857543945312\n",
      "reward: 10.242324829101562\n",
      "reward: 13.61773681640625\n",
      "reward: 5.416351318359375\n",
      "reward: 1.303375244140625\n",
      "reward: -4.2391357421875\n",
      "reward: -10.567230224609375\n",
      "reward: -9.216110229492188\n",
      "reward: -6.21649169921875\n",
      "reward: -7.9388275146484375\n",
      "reward: -7.481658935546875\n",
      "reward: 0.071380615234375\n",
      "reward: 2.7356719970703125\n",
      "reward: 6.319854736328125\n",
      "reward: 11.918060302734375\n",
      "reward: 10.824905395507812\n",
      "reward: 7.3014678955078125\n",
      "reward: 4.9248046875\n",
      "reward: 3.3217620849609375\n",
      "reward: 7.675262451171875\n",
      "reward: 13.465805053710938\n",
      "reward: 11.936813354492188\n",
      "reward: 3.9302825927734375\n",
      "reward: 3.14501953125\n",
      "reward: 7.5769500732421875\n",
      "reward: 6.94232177734375\n",
      "reward: 0.0\n",
      "reward: 0.0\n",
      "reward: -4.042388916015625\n",
      "reward: -10.223663330078125\n",
      "reward: -4.3265533447265625\n",
      "reward: 4.3519744873046875\n",
      "reward: -0.15045166015625\n",
      "reward: -100.8477783203125\n",
      "Result: 24.220748901367188\n"
     ]
    },
    {
     "ename": "KeyboardInterrupt",
     "evalue": "",
     "output_type": "error",
     "traceback": [
      "\u001b[1;31m---------------------------------------------------------------------------\u001b[0m",
      "\u001b[1;31mKeyboardInterrupt\u001b[0m                         Traceback (most recent call last)",
      "Input \u001b[1;32mIn [26]\u001b[0m, in \u001b[0;36m<cell line: 3>\u001b[1;34m()\u001b[0m\n\u001b[0;32m      2\u001b[0m episodes \u001b[38;5;241m=\u001b[39m \u001b[38;5;241m10\u001b[39m \n\u001b[0;32m      3\u001b[0m \u001b[38;5;28;01mfor\u001b[39;00m episode \u001b[38;5;129;01min\u001b[39;00m \u001b[38;5;28mrange\u001b[39m(episodes): \n\u001b[0;32m      4\u001b[0m     \u001b[38;5;66;03m# Create a new episode or game \u001b[39;00m\n\u001b[1;32m----> 5\u001b[0m     \u001b[43mgame\u001b[49m\u001b[38;5;241;43m.\u001b[39;49m\u001b[43mnew_episode\u001b[49m\u001b[43m(\u001b[49m\u001b[43m)\u001b[49m\n\u001b[0;32m      6\u001b[0m     \u001b[38;5;66;03m# Check the game isn't done \u001b[39;00m\n\u001b[0;32m      7\u001b[0m     \u001b[38;5;28;01mwhile\u001b[39;00m \u001b[38;5;129;01mnot\u001b[39;00m game\u001b[38;5;241m.\u001b[39mis_episode_finished(): \n\u001b[0;32m      8\u001b[0m         \u001b[38;5;66;03m# Get the game state \u001b[39;00m\n",
      "\u001b[1;31mKeyboardInterrupt\u001b[0m: "
     ]
    }
   ],
   "source": [
    "# Loop through episodes \n",
    "episodes = 10 \n",
    "for episode in range(episodes): \n",
    "    # Create a new episode or game \n",
    "    game.new_episode()\n",
    "    # Check the game isn't done \n",
    "    while not game.is_episode_finished(): \n",
    "        # Get the game state \n",
    "        state = game.get_state()                       #using get state function of the game instance\n",
    "        # Get the game image \n",
    "        img = state.screen_buffer\n",
    "        # Get the game variables - health\n",
    "        info = state.game_variables\n",
    "        # Take an action\n",
    "        reward = game.make_action(random.choice(actions),4)    #4 as we want to skip 4 frames\n",
    "        # Print reward \n",
    "        print('reward:', reward) \n",
    "        time.sleep(0.02)\n",
    "    print('Result:', game.get_total_reward())\n",
    "    time.sleep(2)"
   ]
  },
  {
   "cell_type": "code",
   "execution_count": 15,
   "id": "edaa9703",
   "metadata": {},
   "outputs": [],
   "source": [
    "game.new_episode()"
   ]
  },
  {
   "cell_type": "code",
   "execution_count": 16,
   "id": "b142021b",
   "metadata": {},
   "outputs": [],
   "source": [
    "state = game.get_state()"
   ]
  },
  {
   "cell_type": "code",
   "execution_count": 17,
   "id": "0a216e4a",
   "metadata": {},
   "outputs": [
    {
     "data": {
      "text/plain": [
       "<vizdoom.vizdoom.GameState at 0x1bf22909530>"
      ]
     },
     "execution_count": 17,
     "metadata": {},
     "output_type": "execute_result"
    }
   ],
   "source": [
    "state"
   ]
  },
  {
   "cell_type": "code",
   "execution_count": 18,
   "id": "04c80cf3",
   "metadata": {},
   "outputs": [
    {
     "data": {
      "text/plain": [
       "array([[[55, 55, 55, ..., 55, 55, 47],\n",
       "        [55, 55, 55, ..., 31, 31, 47],\n",
       "        [55, 55, 55, ..., 31, 31, 47],\n",
       "        ...,\n",
       "        [19, 19, 11, ..., 47, 47, 55],\n",
       "        [19, 27, 19, ..., 47, 47, 47],\n",
       "        [11, 19, 19, ..., 27, 19, 19]],\n",
       "\n",
       "       [[35, 35, 35, ..., 35, 35, 27],\n",
       "        [35, 35, 35, ..., 23, 23, 27],\n",
       "        [35, 35, 35, ..., 23, 23, 27],\n",
       "        ...,\n",
       "        [19, 19, 11, ..., 47, 47, 55],\n",
       "        [19, 27, 19, ..., 47, 47, 47],\n",
       "        [11, 19, 19, ..., 27, 19, 19]],\n",
       "\n",
       "       [[19, 19, 19, ..., 19, 19, 11],\n",
       "        [19, 19, 19, ..., 11, 11, 11],\n",
       "        [19, 19, 19, ..., 11, 11, 11],\n",
       "        ...,\n",
       "        [19, 19, 11, ..., 47, 47, 55],\n",
       "        [19, 27, 19, ..., 47, 47, 47],\n",
       "        [11, 19, 19, ..., 27, 19, 19]]], dtype=uint8)"
      ]
     },
     "execution_count": 18,
     "metadata": {},
     "output_type": "execute_result"
    }
   ],
   "source": [
    " state.screen_buffer                     #gives the image"
   ]
  },
  {
   "cell_type": "code",
   "execution_count": 19,
   "id": "ea3586a9",
   "metadata": {},
   "outputs": [],
   "source": [
    "info = state.game_variables           #health is out state variable"
   ]
  },
  {
   "cell_type": "code",
   "execution_count": 20,
   "id": "ce4fb306",
   "metadata": {},
   "outputs": [
    {
     "data": {
      "text/plain": [
       "array([100.])"
      ]
     },
     "execution_count": 20,
     "metadata": {},
     "output_type": "execute_result"
    }
   ],
   "source": [
    "info"
   ]
  },
  {
   "cell_type": "code",
   "execution_count": 5,
   "id": "8f971d7d",
   "metadata": {},
   "outputs": [],
   "source": [
    "game.close()"
   ]
  },
  {
   "cell_type": "markdown",
   "id": "19026a62",
   "metadata": {},
   "source": [
    "## Converting it to Gym Environment"
   ]
  },
  {
   "cell_type": "code",
   "execution_count": 3,
   "id": "08225723",
   "metadata": {},
   "outputs": [],
   "source": [
    "# Import environment base class from OpenAI Gym\n",
    "from gym import Env\n",
    "# Import gym spaces \n",
    "from gym.spaces import Discrete, Box\n",
    "# Import opencv \n",
    "import cv2"
   ]
  },
  {
   "cell_type": "code",
   "execution_count": 4,
   "id": "78b4e12b",
   "metadata": {},
   "outputs": [],
   "source": [
    "class VizDOOMGym(Env):\n",
    "    #This is the first function that is called when we start the environment\n",
    "    \n",
    "    def __init__(self,render=False,config='github/VizDoom/scenarios/deadly_corridor_S1.cfg'):\n",
    "        super().__init__()           #inheriting for Env class\n",
    "        #set up the game\n",
    "        self.game =DoomGame()       #creating an instance from vizdoom class\n",
    "        self.game.load_config(config)      #this config allows to load owr reward,buttons etc\n",
    "        \n",
    "        #Render form logic\n",
    "        if render==False:\n",
    "            self.game.set_window_visible(False)\n",
    "        else:\n",
    "            self.game.set_window_visible(True)\n",
    "            \n",
    "            \n",
    "        self.game.init()            #stariting it up\n",
    "        \n",
    "        #Creating the action and environment space\n",
    "        self.observation_space=Box(low=0,high=255,shape=(100,160,1),dtype=np.uint8)\n",
    "        self.action_space=Discrete(7)\n",
    "        \n",
    "        #Extra game variables\n",
    "        self.damage_taken=0\n",
    "        self.hitcount=0\n",
    "        self.ammo=52\n",
    "        \n",
    "     \n",
    "    #This is how we take a step in an environment\n",
    "    def step(self,action):\n",
    "        actions=np.identity(7,dtype=np.uint8)\n",
    "        movement_reward=self.game.make_action(actions[action],4)\n",
    "        reward=0 \n",
    "        #all other stuff\n",
    "        if self.game.get_state():\n",
    "            state=self.game.get_state().screen_buffer               #to avoid error if there is no state at end\n",
    "            state=self.grayscale(state)\n",
    "            \n",
    "            #Game variables\n",
    "            game_variables=self.game.get_state().game_variables\n",
    "            health,damage_taken,hitcount,ammo=game_variables\n",
    "            \n",
    "            #Calculate reward deltas\n",
    "            damage_taken_delta = -damage_taken + self.damage_taken\n",
    "            self.damage_taken = damage_taken\n",
    "            hitcount_delta = hitcount - self.hitcount\n",
    "            self.hitcount = hitcount\n",
    "            ammo_delta = ammo - self.ammo\n",
    "            self.ammo = ammo\n",
    "            \n",
    "            \n",
    "            \n",
    "            reward = movement_reward + damage_taken_delta*10 + hitcount_delta*200  + ammo_delta*5 \n",
    "            info = ammo\n",
    "            \n",
    "            \n",
    "        else:\n",
    "            state = np.zeros(self.observation_space.shape)\n",
    "            info=0\n",
    "        info = {\"info\":info}\n",
    "        \n",
    "        \n",
    "        done=self.game.is_episode_finished()\n",
    "        \n",
    "        \n",
    "        return state,reward,done,info\n",
    "    \n",
    "    #Defining how to render the environment\n",
    "    def render():\n",
    "        pass\n",
    "    #This is what happens when we restart the game\n",
    "    def reset(self):\n",
    "        self.game.new_episode()\n",
    "        state=self.game.get_state().screen_buffer\n",
    "        return self.grayscale(state)\n",
    "    #Grayscalling the image\n",
    "    \n",
    "    def grayscale(self, observation):\n",
    "            \n",
    "        \tgray = cv2.cvtColor(np.moveaxis(observation, 0, -1), cv2.COLOR_BGR2GRAY)\n",
    "        \tresize = cv2.resize(gray, (160,100), interpolation=cv2.INTER_CUBIC)\n",
    "        \tstate = np.reshape(resize, (100,160,1))\n",
    "        \treturn state   \n",
    "    def close(self):\n",
    "        self.game.close()\n",
    "        \n",
    "        \n",
    "        "
   ]
  },
  {
   "cell_type": "code",
   "execution_count": 8,
   "id": "eeb99e26",
   "metadata": {},
   "outputs": [],
   "source": [
    "env=VizDOOMGym()"
   ]
  },
  {
   "cell_type": "code",
   "execution_count": 30,
   "id": "7814e8a4",
   "metadata": {},
   "outputs": [
    {
     "data": {
      "text/plain": [
       "<bound method VizDOOMGym.step of <__main__.VizDOOMGym object at 0x000001BF0AA42EF0>>"
      ]
     },
     "execution_count": 30,
     "metadata": {},
     "output_type": "execute_result"
    }
   ],
   "source": [
    "env.step"
   ]
  },
  {
   "cell_type": "code",
   "execution_count": 31,
   "id": "36ccd8c3",
   "metadata": {},
   "outputs": [],
   "source": [
    "state=env.reset()"
   ]
  },
  {
   "cell_type": "code",
   "execution_count": 32,
   "id": "469cba54",
   "metadata": {},
   "outputs": [
    {
     "data": {
      "text/plain": [
       "(array([[[32],\n",
       "         [33],\n",
       "         [25],\n",
       "         ...,\n",
       "         [27],\n",
       "         [23],\n",
       "         [24]],\n",
       " \n",
       "        [[27],\n",
       "         [33],\n",
       "         [23],\n",
       "         ...,\n",
       "         [24],\n",
       "         [24],\n",
       "         [24]],\n",
       " \n",
       "        [[20],\n",
       "         [35],\n",
       "         [23],\n",
       "         ...,\n",
       "         [24],\n",
       "         [24],\n",
       "         [24]],\n",
       " \n",
       "        ...,\n",
       " \n",
       "        [[75],\n",
       "         [63],\n",
       "         [62],\n",
       "         ...,\n",
       "         [44],\n",
       "         [71],\n",
       "         [60]],\n",
       " \n",
       "        [[15],\n",
       "         [48],\n",
       "         [47],\n",
       "         ...,\n",
       "         [49],\n",
       "         [69],\n",
       "         [47]],\n",
       " \n",
       "        [[22],\n",
       "         [14],\n",
       "         [26],\n",
       "         ...,\n",
       "         [57],\n",
       "         [37],\n",
       "         [39]]], dtype=uint8),\n",
       " -40.0,\n",
       " False,\n",
       " {'info': 52.0})"
      ]
     },
     "execution_count": 32,
     "metadata": {},
     "output_type": "execute_result"
    }
   ],
   "source": [
    "env.step(1)"
   ]
  },
  {
   "cell_type": "code",
   "execution_count": 21,
   "id": "1729aedf",
   "metadata": {},
   "outputs": [
    {
     "data": {
      "text/plain": [
       "(100, 160, 1)"
      ]
     },
     "execution_count": 21,
     "metadata": {},
     "output_type": "execute_result"
    }
   ],
   "source": [
    "state.shape"
   ]
  },
  {
   "cell_type": "markdown",
   "id": "0046784c",
   "metadata": {},
   "source": [
    "## View Environment"
   ]
  },
  {
   "cell_type": "code",
   "execution_count": 34,
   "id": "b54e17e5",
   "metadata": {},
   "outputs": [],
   "source": [
    "from matplotlib import pyplot as plt"
   ]
  },
  {
   "cell_type": "code",
   "execution_count": 35,
   "id": "eedb6850",
   "metadata": {},
   "outputs": [
    {
     "data": {
      "text/plain": [
       "<matplotlib.image.AxesImage at 0x1bf241d11b0>"
      ]
     },
     "execution_count": 35,
     "metadata": {},
     "output_type": "execute_result"
    },
    {
     "data": {
      "image/png": "[encoded data removed]",
      "text/plain": [
       "<Figure size 432x288 with 1 Axes>"
      ]
     },
     "metadata": {
      "needs_background": "light"
     },
     "output_type": "display_data"
    }
   ],
   "source": [
    "plt.imshow(state)"
   ]
  },
  {
   "cell_type": "code",
   "execution_count": 36,
   "id": "d2b4bbc1",
   "metadata": {},
   "outputs": [
    {
     "data": {
      "text/plain": [
       "<matplotlib.image.AxesImage at 0x1bf262d2140>"
      ]
     },
     "execution_count": 36,
     "metadata": {},
     "output_type": "execute_result"
    },
    {
     "data": {
      "image/png": "[encoded data removed]",
      "text/plain": [
       "<Figure size 432x288 with 1 Axes>"
      ]
     },
     "metadata": {
      "needs_background": "light"
     },
     "output_type": "display_data"
    }
   ],
   "source": [
    "plt.imshow(cv2.cvtColor(state, cv2.COLOR_BGR2RGB))"
   ]
  },
  {
   "cell_type": "code",
   "execution_count": 9,
   "id": "3fe28474",
   "metadata": {},
   "outputs": [],
   "source": [
    "env.close()"
   ]
  },
  {
   "cell_type": "markdown",
   "id": "1f2cb4f9",
   "metadata": {},
   "source": [
    "## Environment checker"
   ]
  },
  {
   "cell_type": "code",
   "execution_count": 5,
   "id": "4b442f5d",
   "metadata": {},
   "outputs": [],
   "source": [
    "from stable_baselines3.common import env_checker"
   ]
  },
  {
   "cell_type": "code",
   "execution_count": 111,
   "id": "a897cb6b",
   "metadata": {},
   "outputs": [],
   "source": [
    "env=VizDOOMGym()"
   ]
  },
  {
   "cell_type": "code",
   "execution_count": 112,
   "id": "ed40e385",
   "metadata": {},
   "outputs": [],
   "source": [
    "env_checker.check_env(env)             #will show if there is any error in the environment"
   ]
  },
  {
   "cell_type": "code",
   "execution_count": 113,
   "id": "6b44c656",
   "metadata": {},
   "outputs": [],
   "source": [
    "env.close()"
   ]
  },
  {
   "cell_type": "markdown",
   "id": "c09f3326",
   "metadata": {},
   "source": [
    "## Setup Callback"
   ]
  },
  {
   "cell_type": "code",
   "execution_count": 6,
   "id": "4bd5c97c",
   "metadata": {},
   "outputs": [],
   "source": [
    "import os\n",
    "from stable_baselines3.common.callbacks import BaseCallback"
   ]
  },
  {
   "cell_type": "code",
   "execution_count": 7,
   "id": "814908e9",
   "metadata": {},
   "outputs": [],
   "source": [
    "class TrainAndLoggingCallback(BaseCallback):\n",
    "\n",
    "    def __init__(self, check_freq, save_path, verbose=1):\n",
    "        super(TrainAndLoggingCallback, self).__init__(verbose)\n",
    "        self.check_freq = check_freq\n",
    "        self.save_path = save_path\n",
    "\n",
    "    def _init_callback(self):\n",
    "        if self.save_path is not None:\n",
    "            os.makedirs(self.save_path, exist_ok=True)\n",
    "\n",
    "    def _on_step(self):\n",
    "        if self.n_calls % self.check_freq == 0:\n",
    "            model_path = os.path.join(self.save_path, 'best_model_{}'.format(self.n_calls))\n",
    "            self.model.save(model_path)\n",
    "\n",
    "        return True"
   ]
  },
  {
   "cell_type": "code",
   "execution_count": 8,
   "id": "765bef46",
   "metadata": {},
   "outputs": [],
   "source": [
    "CHECKPOINT_DIR = './train/train_corridor2'\n",
    "LOG_DIR = './logs/log_corridor2'"
   ]
  },
  {
   "cell_type": "code",
   "execution_count": 9,
   "id": "a29c094c",
   "metadata": {},
   "outputs": [],
   "source": [
    "callback = TrainAndLoggingCallback(check_freq=10000, save_path=CHECKPOINT_DIR)"
   ]
  },
  {
   "cell_type": "markdown",
   "id": "cd099f23",
   "metadata": {},
   "source": [
    "## Train Model using Curriculum \n"
   ]
  },
  {
   "cell_type": "code",
   "execution_count": 10,
   "id": "415ec3b1",
   "metadata": {},
   "outputs": [],
   "source": [
    "from stable_baselines3 import PPO"
   ]
  },
  {
   "cell_type": "code",
   "execution_count": 14,
   "id": "ed88734e",
   "metadata": {},
   "outputs": [],
   "source": [
    "env=VizDOOMGym(config='github/VizDoom/scenarios/deadly_corridor_S5.cfg')"
   ]
  },
  {
   "cell_type": "code",
   "execution_count": 15,
   "id": "0de25b56",
   "metadata": {},
   "outputs": [
    {
     "name": "stdout",
     "output_type": "stream",
     "text": [
      "Using cpu device\n",
      "Wrapping the env with a `Monitor` wrapper\n",
      "Wrapping the env in a DummyVecEnv.\n",
      "Wrapping the env in a VecTransposeImage.\n"
     ]
    }
   ],
   "source": [
    "model = PPO('CnnPolicy', env, tensorboard_log=LOG_DIR, verbose=1, learning_rate=0.00001, n_steps=8192,clip_range=0.1,gamma=0.95,gae_lambda=0.9)"
   ]
  },
  {
   "cell_type": "code",
   "execution_count": 16,
   "id": "2446ee4d",
   "metadata": {},
   "outputs": [
    {
     "name": "stdout",
     "output_type": "stream",
     "text": [
      "Wrapping the env with a `Monitor` wrapper\n",
      "Wrapping the env in a DummyVecEnv.\n",
      "Wrapping the env in a VecTransposeImage.\n"
     ]
    }
   ],
   "source": [
    "model.set_env(env)"
   ]
  },
  {
   "cell_type": "code",
   "execution_count": 18,
   "id": "9e2d2d7d",
   "metadata": {},
   "outputs": [
    {
     "name": "stdout",
     "output_type": "stream",
     "text": [
      "Logging to ./logs/log_corridor2\\PPO_8\n",
      "---------------------------------\n",
      "| rollout/           |          |\n",
      "|    ep_len_mean     | 31.4     |\n",
      "|    ep_rew_mean     | 18.8     |\n",
      "| time/              |          |\n",
      "|    fps             | 13       |\n",
      "|    iterations      | 1        |\n",
      "|    time_elapsed    | 609      |\n",
      "|    total_timesteps | 8192     |\n",
      "---------------------------------\n",
      "------------------------------------------\n",
      "| rollout/                |              |\n",
      "|    ep_len_mean          | 36.2         |\n",
      "|    ep_rew_mean          | 28.1         |\n",
      "| time/                   |              |\n",
      "|    fps                  | 10           |\n",
      "|    iterations           | 2            |\n",
      "|    time_elapsed         | 1515         |\n",
      "|    total_timesteps      | 16384        |\n",
      "| train/                  |              |\n",
      "|    approx_kl            | 0.0022919807 |\n",
      "|    clip_fraction        | 0.12         |\n",
      "|    clip_range           | 0.1          |\n",
      "|    entropy_loss         | -1.94        |\n",
      "|    explained_variance   | -1.98e-05    |\n",
      "|    learning_rate        | 1e-05        |\n",
      "|    loss                 | 1.72e+04     |\n",
      "|    n_updates            | 10           |\n",
      "|    policy_gradient_loss | -0.000342    |\n",
      "|    value_loss           | 3.62e+04     |\n",
      "------------------------------------------\n",
      "------------------------------------------\n",
      "| rollout/                |              |\n",
      "|    ep_len_mean          | 29.3         |\n",
      "|    ep_rew_mean          | 26.2         |\n",
      "| time/                   |              |\n",
      "|    fps                  | 10           |\n",
      "|    iterations           | 3            |\n",
      "|    time_elapsed         | 2422         |\n",
      "|    total_timesteps      | 24576        |\n",
      "| train/                  |              |\n",
      "|    approx_kl            | 0.0038442477 |\n",
      "|    clip_fraction        | 0.162        |\n",
      "|    clip_range           | 0.1          |\n",
      "|    entropy_loss         | -1.94        |\n",
      "|    explained_variance   | 0.0181       |\n",
      "|    learning_rate        | 1e-05        |\n",
      "|    loss                 | 2.23e+04     |\n",
      "|    n_updates            | 20           |\n",
      "|    policy_gradient_loss | 0.000624     |\n",
      "|    value_loss           | 3.26e+04     |\n",
      "------------------------------------------\n",
      "-----------------------------------------\n",
      "| rollout/                |             |\n",
      "|    ep_len_mean          | 29.8        |\n",
      "|    ep_rew_mean          | 19.2        |\n",
      "| time/                   |             |\n",
      "|    fps                  | 9           |\n",
      "|    iterations           | 4           |\n",
      "|    time_elapsed         | 3341        |\n",
      "|    total_timesteps      | 32768       |\n",
      "| train/                  |             |\n",
      "|    approx_kl            | 0.012173958 |\n",
      "|    clip_fraction        | 0.31        |\n",
      "|    clip_range           | 0.1         |\n",
      "|    entropy_loss         | -1.93       |\n",
      "|    explained_variance   | 0.105       |\n",
      "|    learning_rate        | 1e-05       |\n",
      "|    loss                 | 6.75e+03    |\n",
      "|    n_updates            | 30          |\n",
      "|    policy_gradient_loss | 0.00374     |\n",
      "|    value_loss           | 2.38e+04    |\n",
      "-----------------------------------------\n",
      "------------------------------------------\n",
      "| rollout/                |              |\n",
      "|    ep_len_mean          | 35.7         |\n",
      "|    ep_rew_mean          | 41.5         |\n",
      "| time/                   |              |\n",
      "|    fps                  | 9            |\n",
      "|    iterations           | 5            |\n",
      "|    time_elapsed         | 4251         |\n",
      "|    total_timesteps      | 40960        |\n",
      "| train/                  |              |\n",
      "|    approx_kl            | 0.0030720185 |\n",
      "|    clip_fraction        | 0.242        |\n",
      "|    clip_range           | 0.1          |\n",
      "|    entropy_loss         | -1.92        |\n",
      "|    explained_variance   | 0.116        |\n",
      "|    learning_rate        | 1e-05        |\n",
      "|    loss                 | 1.35e+04     |\n",
      "|    n_updates            | 40           |\n",
      "|    policy_gradient_loss | 0.00231      |\n",
      "|    value_loss           | 2.95e+04     |\n",
      "------------------------------------------\n",
      "------------------------------------------\n",
      "| rollout/                |              |\n",
      "|    ep_len_mean          | 34.4         |\n",
      "|    ep_rew_mean          | 33.4         |\n",
      "| time/                   |              |\n",
      "|    fps                  | 9            |\n",
      "|    iterations           | 6            |\n",
      "|    time_elapsed         | 5165         |\n",
      "|    total_timesteps      | 49152        |\n",
      "| train/                  |              |\n",
      "|    approx_kl            | 0.0034349123 |\n",
      "|    clip_fraction        | 0.261        |\n",
      "|    clip_range           | 0.1          |\n",
      "|    entropy_loss         | -1.9         |\n",
      "|    explained_variance   | 0.178        |\n",
      "|    learning_rate        | 1e-05        |\n",
      "|    loss                 | 9.62e+03     |\n",
      "|    n_updates            | 50           |\n",
      "|    policy_gradient_loss | 0.00192      |\n",
      "|    value_loss           | 2.63e+04     |\n",
      "------------------------------------------\n",
      "------------------------------------------\n",
      "| rollout/                |              |\n",
      "|    ep_len_mean          | 39.3         |\n",
      "|    ep_rew_mean          | 55.2         |\n",
      "| time/                   |              |\n",
      "|    fps                  | 9            |\n",
      "|    iterations           | 7            |\n",
      "|    time_elapsed         | 6138         |\n",
      "|    total_timesteps      | 57344        |\n",
      "| train/                  |              |\n",
      "|    approx_kl            | 0.0045687454 |\n",
      "|    clip_fraction        | 0.268        |\n",
      "|    clip_range           | 0.1          |\n",
      "|    entropy_loss         | -1.9         |\n",
      "|    explained_variance   | 0.186        |\n",
      "|    learning_rate        | 1e-05        |\n",
      "|    loss                 | 4.47e+03     |\n",
      "|    n_updates            | 60           |\n",
      "|    policy_gradient_loss | 0.00295      |\n",
      "|    value_loss           | 2.59e+04     |\n",
      "------------------------------------------\n"
     ]
    },
    {
     "data": {
      "text/plain": [
       "<stable_baselines3.ppo.ppo.PPO at 0x18c5b3ba5f0>"
      ]
     },
     "execution_count": 18,
     "metadata": {},
     "output_type": "execute_result"
    }
   ],
   "source": [
    "model.learn(total_timesteps=50000,callback=callback)"
   ]
  },
  {
   "cell_type": "code",
   "execution_count": 19,
   "id": "397fb627",
   "metadata": {},
   "outputs": [],
   "source": [
    "PPO_PATH=os.path.join('train','train_coridor2_','S_save')\n",
    "model.save(PPO_PATH)\n",
    "del model\n",
    "env.close()"
   ]
  },
  {
   "cell_type": "code",
   "execution_count": 21,
   "id": "ea2d0672",
   "metadata": {},
   "outputs": [],
   "source": [
    "from stable_baselines3.common.evaluation import evaluate_policy"
   ]
  },
  {
   "cell_type": "code",
   "execution_count": 25,
   "id": "5525714d",
   "metadata": {},
   "outputs": [
    {
     "name": "stdout",
     "output_type": "stream",
     "text": [
      "Wrapping the env with a `Monitor` wrapper\n",
      "Wrapping the env in a DummyVecEnv.\n",
      "Wrapping the env in a VecTransposeImage.\n",
      "-102.45140838623047\n"
     ]
    }
   ],
   "source": [
    "PPO_PATH=os.path.join('train','train_coridor2_','S_save')\n",
    "model=PPO.load(PPO_PATH)\n",
    "env=VizDOOMGym(config='github/VizDoom/scenarios/deadly_corridor_S5.cfg')\n",
    "model.set_env(env)\n",
    "mean_reward,_=evaluate_policy(model,env,n_eval_episodes=10)\n",
    "print(mean_reward)\n",
    "env.close()\n",
    "del model"
   ]
  },
  {
   "cell_type": "markdown",
   "id": "fc8a01b6",
   "metadata": {},
   "source": [
    "## Average mean_mean reward of -102.45"
   ]
  },
  {
   "cell_type": "code",
   "execution_count": null,
   "id": "d170817e",
   "metadata": {},
   "outputs": [],
   "source": []
  }
 ],
 "metadata": {
  "kernelspec": {
   "display_name": "Python 3 (ipykernel)",
   "language": "python",
   "name": "python3"
  },
  "language_info": {
   "codemirror_mode": {
    "name": "ipython",
    "version": 3
   },
   "file_extension": ".py",
   "mimetype": "text/x-python",
   "name": "python",
   "nbconvert_exporter": "python",
   "pygments_lexer": "ipython3",
   "version": "3.10.1"
  }
 },
 "nbformat": 4,
 "nbformat_minor": 5
}
